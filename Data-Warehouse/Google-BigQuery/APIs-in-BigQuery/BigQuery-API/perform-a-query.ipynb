{
 "cells": [
  {
   "attachments": {},
   "cell_type": "markdown",
   "metadata": {},
   "source": [
    "# Perform A Sample Query"
   ]
  },
  {
   "cell_type": "code",
   "execution_count": 2,
   "metadata": {},
   "outputs": [],
   "source": [
    "import numpy as np\n",
    "from google.cloud import bigquery"
   ]
  },
  {
   "cell_type": "code",
   "execution_count": 3,
   "metadata": {},
   "outputs": [],
   "source": [
    "# Instantiate the bigquery.Client class to create the BigQuery client.\n",
    "client = bigquery.Client(project=\"xxxxxxx\") # insert the project id as a parameter"
   ]
  },
  {
   "cell_type": "code",
   "execution_count": 4,
   "metadata": {},
   "outputs": [],
   "source": [
    "# Perform a sample query\n",
    "QUERY = (\n",
    "    'SELECT * FROM `bigquery-public-data.usa_names.usa_1910_2013`'\n",
    "    'WHERE state = \"TX\" '\n",
    "    'LIMIT 100'\n",
    ")\n",
    "\n",
    "query_job = client.query(QUERY) # API request\n",
    "rows = query_job.result() # Waits for query to finish"
   ]
  },
  {
   "cell_type": "code",
   "execution_count": 5,
   "metadata": {},
   "outputs": [
    {
     "name": "stdout",
     "output_type": "stream",
     "text": [
      "Row(('TX', 'F', 1910, 'Mary', 895), {'state': 0, 'gender': 1, 'year': 2, 'name': 3, 'number': 4})\n",
      "Row(('TX', 'F', 1910, 'Roberta', 37), {'state': 0, 'gender': 1, 'year': 2, 'name': 3, 'number': 4})\n",
      "Row(('TX', 'F', 1910, 'Marguerite', 42), {'state': 0, 'gender': 1, 'year': 2, 'name': 3, 'number': 4})\n",
      "Row(('TX', 'F', 1911, 'Katie', 49), {'state': 0, 'gender': 1, 'year': 2, 'name': 3, 'number': 4})\n",
      "Row(('TX', 'F', 1911, 'Eunice', 59), {'state': 0, 'gender': 1, 'year': 2, 'name': 3, 'number': 4})\n",
      "Row(('TX', 'F', 1912, 'Nell', 49), {'state': 0, 'gender': 1, 'year': 2, 'name': 3, 'number': 4})\n",
      "Row(('TX', 'F', 1912, 'Bonnie', 66), {'state': 0, 'gender': 1, 'year': 2, 'name': 3, 'number': 4})\n",
      "Row(('TX', 'F', 1912, 'Susie', 53), {'state': 0, 'gender': 1, 'year': 2, 'name': 3, 'number': 4})\n",
      "Row(('TX', 'F', 1912, 'Marguerite', 74), {'state': 0, 'gender': 1, 'year': 2, 'name': 3, 'number': 4})\n",
      "Row(('TX', 'F', 1912, 'Carmen', 51), {'state': 0, 'gender': 1, 'year': 2, 'name': 3, 'number': 4})\n",
      "Row(('TX', 'F', 1913, 'Eva', 150), {'state': 0, 'gender': 1, 'year': 2, 'name': 3, 'number': 4})\n",
      "Row(('TX', 'F', 1913, 'Hazel', 265), {'state': 0, 'gender': 1, 'year': 2, 'name': 3, 'number': 4})\n",
      "Row(('TX', 'F', 1913, 'Mattie', 176), {'state': 0, 'gender': 1, 'year': 2, 'name': 3, 'number': 4})\n",
      "Row(('TX', 'F', 1913, 'Jewell', 71), {'state': 0, 'gender': 1, 'year': 2, 'name': 3, 'number': 4})\n",
      "Row(('TX', 'F', 1913, 'Margaret', 341), {'state': 0, 'gender': 1, 'year': 2, 'name': 3, 'number': 4})\n",
      "Row(('TX', 'F', 1913, 'Bessie', 198), {'state': 0, 'gender': 1, 'year': 2, 'name': 3, 'number': 4})\n",
      "Row(('TX', 'F', 1914, 'Vivian', 127), {'state': 0, 'gender': 1, 'year': 2, 'name': 3, 'number': 4})\n",
      "Row(('TX', 'F', 1914, 'Francisca', 69), {'state': 0, 'gender': 1, 'year': 2, 'name': 3, 'number': 4})\n",
      "Row(('TX', 'F', 1914, 'Bernice', 187), {'state': 0, 'gender': 1, 'year': 2, 'name': 3, 'number': 4})\n",
      "Row(('TX', 'F', 1914, 'Ella', 159), {'state': 0, 'gender': 1, 'year': 2, 'name': 3, 'number': 4})\n",
      "Row(('TX', 'F', 1914, 'Christine', 94), {'state': 0, 'gender': 1, 'year': 2, 'name': 3, 'number': 4})\n",
      "Row(('TX', 'F', 1914, 'Julia', 157), {'state': 0, 'gender': 1, 'year': 2, 'name': 3, 'number': 4})\n",
      "Row(('TX', 'F', 1915, 'Lula', 143), {'state': 0, 'gender': 1, 'year': 2, 'name': 3, 'number': 4})\n",
      "Row(('TX', 'F', 1916, 'Billie', 99), {'state': 0, 'gender': 1, 'year': 2, 'name': 3, 'number': 4})\n",
      "Row(('TX', 'F', 1916, 'Lou', 38), {'state': 0, 'gender': 1, 'year': 2, 'name': 3, 'number': 4})\n",
      "Row(('TX', 'F', 1916, 'Catherine', 119), {'state': 0, 'gender': 1, 'year': 2, 'name': 3, 'number': 4})\n",
      "Row(('TX', 'F', 1916, 'Claudia', 46), {'state': 0, 'gender': 1, 'year': 2, 'name': 3, 'number': 4})\n",
      "Row(('TX', 'F', 1916, 'Hattie', 129), {'state': 0, 'gender': 1, 'year': 2, 'name': 3, 'number': 4})\n",
      "Row(('TX', 'F', 1916, 'Maxine', 100), {'state': 0, 'gender': 1, 'year': 2, 'name': 3, 'number': 4})\n",
      "Row(('TX', 'F', 1916, 'Sarah', 152), {'state': 0, 'gender': 1, 'year': 2, 'name': 3, 'number': 4})\n",
      "Row(('TX', 'F', 1916, 'Lucile', 81), {'state': 0, 'gender': 1, 'year': 2, 'name': 3, 'number': 4})\n",
      "Row(('TX', 'F', 1916, 'Minnie', 255), {'state': 0, 'gender': 1, 'year': 2, 'name': 3, 'number': 4})\n",
      "Row(('TX', 'F', 1916, 'Addie', 88), {'state': 0, 'gender': 1, 'year': 2, 'name': 3, 'number': 4})\n",
      "Row(('TX', 'F', 1916, 'Ernestine', 49), {'state': 0, 'gender': 1, 'year': 2, 'name': 3, 'number': 4})\n",
      "Row(('TX', 'F', 1916, 'Janie', 48), {'state': 0, 'gender': 1, 'year': 2, 'name': 3, 'number': 4})\n",
      "Row(('TX', 'F', 1916, 'Melba', 51), {'state': 0, 'gender': 1, 'year': 2, 'name': 3, 'number': 4})\n",
      "Row(('TX', 'F', 1917, 'Della', 72), {'state': 0, 'gender': 1, 'year': 2, 'name': 3, 'number': 4})\n",
      "Row(('TX', 'F', 1917, 'Sadie', 64), {'state': 0, 'gender': 1, 'year': 2, 'name': 3, 'number': 4})\n",
      "Row(('TX', 'F', 1917, 'Virginia', 413), {'state': 0, 'gender': 1, 'year': 2, 'name': 3, 'number': 4})\n",
      "Row(('TX', 'F', 1917, 'Ima', 59), {'state': 0, 'gender': 1, 'year': 2, 'name': 3, 'number': 4})\n",
      "Row(('TX', 'F', 1917, 'Dolores', 85), {'state': 0, 'gender': 1, 'year': 2, 'name': 3, 'number': 4})\n",
      "Row(('TX', 'F', 1918, 'Ruth', 662), {'state': 0, 'gender': 1, 'year': 2, 'name': 3, 'number': 4})\n",
      "Row(('TX', 'F', 1918, 'Maurine', 68), {'state': 0, 'gender': 1, 'year': 2, 'name': 3, 'number': 4})\n",
      "Row(('TX', 'F', 1918, 'Odessa', 72), {'state': 0, 'gender': 1, 'year': 2, 'name': 3, 'number': 4})\n",
      "Row(('TX', 'F', 1918, 'Manuela', 102), {'state': 0, 'gender': 1, 'year': 2, 'name': 3, 'number': 4})\n",
      "Row(('TX', 'F', 1918, 'Josefa', 49), {'state': 0, 'gender': 1, 'year': 2, 'name': 3, 'number': 4})\n",
      "Row(('TX', 'F', 1918, 'Isabel', 70), {'state': 0, 'gender': 1, 'year': 2, 'name': 3, 'number': 4})\n",
      "Row(('TX', 'F', 1918, 'Antonia', 81), {'state': 0, 'gender': 1, 'year': 2, 'name': 3, 'number': 4})\n",
      "Row(('TX', 'F', 1919, 'Elisa', 44), {'state': 0, 'gender': 1, 'year': 2, 'name': 3, 'number': 4})\n",
      "Row(('TX', 'F', 1919, 'Esther', 183), {'state': 0, 'gender': 1, 'year': 2, 'name': 3, 'number': 4})\n",
      "Row(('TX', 'F', 1919, 'Rosie', 155), {'state': 0, 'gender': 1, 'year': 2, 'name': 3, 'number': 4})\n",
      "Row(('TX', 'F', 1919, 'Sylvia', 63), {'state': 0, 'gender': 1, 'year': 2, 'name': 3, 'number': 4})\n",
      "Row(('TX', 'F', 1920, 'Ada', 96), {'state': 0, 'gender': 1, 'year': 2, 'name': 3, 'number': 4})\n",
      "Row(('TX', 'F', 1920, 'Cecilia', 47), {'state': 0, 'gender': 1, 'year': 2, 'name': 3, 'number': 4})\n",
      "Row(('TX', 'F', 1920, 'Ruth', 753), {'state': 0, 'gender': 1, 'year': 2, 'name': 3, 'number': 4})\n",
      "Row(('TX', 'F', 1920, 'Nell', 62), {'state': 0, 'gender': 1, 'year': 2, 'name': 3, 'number': 4})\n",
      "Row(('TX', 'F', 1920, 'Rebecca', 78), {'state': 0, 'gender': 1, 'year': 2, 'name': 3, 'number': 4})\n",
      "Row(('TX', 'F', 1921, 'Dora', 177), {'state': 0, 'gender': 1, 'year': 2, 'name': 3, 'number': 4})\n",
      "Row(('TX', 'F', 1921, 'Willie', 493), {'state': 0, 'gender': 1, 'year': 2, 'name': 3, 'number': 4})\n",
      "Row(('TX', 'F', 1921, 'Susie', 68), {'state': 0, 'gender': 1, 'year': 2, 'name': 3, 'number': 4})\n",
      "Row(('TX', 'F', 1921, 'Vera', 205), {'state': 0, 'gender': 1, 'year': 2, 'name': 3, 'number': 4})\n",
      "Row(('TX', 'F', 1921, 'Roberta', 74), {'state': 0, 'gender': 1, 'year': 2, 'name': 3, 'number': 4})\n",
      "Row(('TX', 'F', 1921, 'Lola', 149), {'state': 0, 'gender': 1, 'year': 2, 'name': 3, 'number': 4})\n",
      "Row(('TX', 'F', 1921, 'Reba', 57), {'state': 0, 'gender': 1, 'year': 2, 'name': 3, 'number': 4})\n",
      "Row(('TX', 'F', 1921, 'Santos', 51), {'state': 0, 'gender': 1, 'year': 2, 'name': 3, 'number': 4})\n",
      "Row(('TX', 'F', 1921, 'Juanita', 645), {'state': 0, 'gender': 1, 'year': 2, 'name': 3, 'number': 4})\n",
      "Row(('TX', 'F', 1921, 'Verna', 90), {'state': 0, 'gender': 1, 'year': 2, 'name': 3, 'number': 4})\n",
      "Row(('TX', 'F', 1921, 'Lois', 375), {'state': 0, 'gender': 1, 'year': 2, 'name': 3, 'number': 4})\n",
      "Row(('TX', 'F', 1921, 'Cleo', 81), {'state': 0, 'gender': 1, 'year': 2, 'name': 3, 'number': 4})\n",
      "Row(('TX', 'F', 1922, 'Ima', 57), {'state': 0, 'gender': 1, 'year': 2, 'name': 3, 'number': 4})\n",
      "Row(('TX', 'F', 1922, 'Maggie', 90), {'state': 0, 'gender': 1, 'year': 2, 'name': 3, 'number': 4})\n",
      "Row(('TX', 'F', 1922, 'Rebecca', 71), {'state': 0, 'gender': 1, 'year': 2, 'name': 3, 'number': 4})\n",
      "Row(('TX', 'F', 1922, 'Florine', 41), {'state': 0, 'gender': 1, 'year': 2, 'name': 3, 'number': 4})\n",
      "Row(('TX', 'F', 1922, 'Freddie', 38), {'state': 0, 'gender': 1, 'year': 2, 'name': 3, 'number': 4})\n",
      "Row(('TX', 'F', 1922, 'Johnnie', 204), {'state': 0, 'gender': 1, 'year': 2, 'name': 3, 'number': 4})\n",
      "Row(('TX', 'F', 1922, 'Grace', 172), {'state': 0, 'gender': 1, 'year': 2, 'name': 3, 'number': 4})\n",
      "Row(('TX', 'F', 1922, 'Adela', 49), {'state': 0, 'gender': 1, 'year': 2, 'name': 3, 'number': 4})\n",
      "Row(('TX', 'F', 1922, 'Bennie', 48), {'state': 0, 'gender': 1, 'year': 2, 'name': 3, 'number': 4})\n",
      "Row(('TX', 'F', 1922, 'Estelle', 56), {'state': 0, 'gender': 1, 'year': 2, 'name': 3, 'number': 4})\n",
      "Row(('TX', 'F', 1922, 'Johnie', 42), {'state': 0, 'gender': 1, 'year': 2, 'name': 3, 'number': 4})\n",
      "Row(('TX', 'F', 1922, 'Nellie', 150), {'state': 0, 'gender': 1, 'year': 2, 'name': 3, 'number': 4})\n",
      "Row(('TX', 'F', 1922, 'Eva', 295), {'state': 0, 'gender': 1, 'year': 2, 'name': 3, 'number': 4})\n",
      "Row(('TX', 'F', 1923, 'Nora', 70), {'state': 0, 'gender': 1, 'year': 2, 'name': 3, 'number': 4})\n",
      "Row(('TX', 'F', 1923, 'Charlie', 46), {'state': 0, 'gender': 1, 'year': 2, 'name': 3, 'number': 4})\n",
      "Row(('TX', 'F', 1923, 'Georgia', 167), {'state': 0, 'gender': 1, 'year': 2, 'name': 3, 'number': 4})\n",
      "Row(('TX', 'F', 1923, 'Verna', 92), {'state': 0, 'gender': 1, 'year': 2, 'name': 3, 'number': 4})\n",
      "Row(('TX', 'F', 1923, 'Olivia', 125), {'state': 0, 'gender': 1, 'year': 2, 'name': 3, 'number': 4})\n",
      "Row(('TX', 'F', 1923, 'Earline', 54), {'state': 0, 'gender': 1, 'year': 2, 'name': 3, 'number': 4})\n",
      "Row(('TX', 'F', 1923, 'Cecilia', 47), {'state': 0, 'gender': 1, 'year': 2, 'name': 3, 'number': 4})\n",
      "Row(('TX', 'F', 1924, 'Anita', 194), {'state': 0, 'gender': 1, 'year': 2, 'name': 3, 'number': 4})\n",
      "Row(('TX', 'F', 1924, 'Eddie', 66), {'state': 0, 'gender': 1, 'year': 2, 'name': 3, 'number': 4})\n",
      "Row(('TX', 'F', 1924, 'Johnnie', 235), {'state': 0, 'gender': 1, 'year': 2, 'name': 3, 'number': 4})\n",
      "Row(('TX', 'F', 1924, 'Lois', 397), {'state': 0, 'gender': 1, 'year': 2, 'name': 3, 'number': 4})\n",
      "Row(('TX', 'F', 1924, 'Kathleen', 79), {'state': 0, 'gender': 1, 'year': 2, 'name': 3, 'number': 4})\n",
      "Row(('TX', 'F', 1924, 'Virginia', 642), {'state': 0, 'gender': 1, 'year': 2, 'name': 3, 'number': 4})\n",
      "Row(('TX', 'F', 1925, 'Rita', 85), {'state': 0, 'gender': 1, 'year': 2, 'name': 3, 'number': 4})\n",
      "Row(('TX', 'F', 1925, 'Elida', 60), {'state': 0, 'gender': 1, 'year': 2, 'name': 3, 'number': 4})\n",
      "Row(('TX', 'F', 1925, 'Billie', 607), {'state': 0, 'gender': 1, 'year': 2, 'name': 3, 'number': 4})\n",
      "Row(('TX', 'F', 1925, 'Ida', 209), {'state': 0, 'gender': 1, 'year': 2, 'name': 3, 'number': 4})\n",
      "Row(('TX', 'F', 1925, 'Elizabeth', 307), {'state': 0, 'gender': 1, 'year': 2, 'name': 3, 'number': 4})\n"
     ]
    }
   ],
   "source": [
    "for row in rows:\n",
    "    print(row)"
   ]
  }
 ],
 "metadata": {
  "kernelspec": {
   "display_name": "venv",
   "language": "python",
   "name": "python3"
  },
  "language_info": {
   "codemirror_mode": {
    "name": "ipython",
    "version": 3
   },
   "file_extension": ".py",
   "mimetype": "text/x-python",
   "name": "python",
   "nbconvert_exporter": "python",
   "pygments_lexer": "ipython3",
   "version": "3.10.10"
  },
  "orig_nbformat": 4
 },
 "nbformat": 4,
 "nbformat_minor": 2
}
